{
 "cells": [
  {
   "cell_type": "code",
   "execution_count": 3,
   "id": "8f410205-3962-4943-84d7-8a2b7091656c",
   "metadata": {},
   "outputs": [],
   "source": [
    "# Import required packages\n",
    "import pandas as pd\n",
    "import requests"
   ]
  },
  {
   "cell_type": "code",
   "execution_count": 4,
   "id": "6e970c13-1e33-4cc1-98a6-636723a54949",
   "metadata": {},
   "outputs": [
    {
     "data": {
      "text/html": [
       "<div>\n",
       "<style scoped>\n",
       "    .dataframe tbody tr th:only-of-type {\n",
       "        vertical-align: middle;\n",
       "    }\n",
       "\n",
       "    .dataframe tbody tr th {\n",
       "        vertical-align: top;\n",
       "    }\n",
       "\n",
       "    .dataframe thead th {\n",
       "        text-align: right;\n",
       "    }\n",
       "</style>\n",
       "<table border=\"1\" class=\"dataframe\">\n",
       "  <thead>\n",
       "    <tr style=\"text-align: right;\">\n",
       "      <th></th>\n",
       "      <th>amount</th>\n",
       "      <th>currency</th>\n",
       "    </tr>\n",
       "  </thead>\n",
       "  <tbody>\n",
       "    <tr>\n",
       "      <th>0</th>\n",
       "      <td>43.75</td>\n",
       "      <td>EUR</td>\n",
       "    </tr>\n",
       "    <tr>\n",
       "      <th>1</th>\n",
       "      <td>385.50</td>\n",
       "      <td>GBP</td>\n",
       "    </tr>\n",
       "    <tr>\n",
       "      <th>2</th>\n",
       "      <td>495.50</td>\n",
       "      <td>GBP</td>\n",
       "    </tr>\n",
       "    <tr>\n",
       "      <th>3</th>\n",
       "      <td>117.99</td>\n",
       "      <td>GBP</td>\n",
       "    </tr>\n",
       "    <tr>\n",
       "      <th>4</th>\n",
       "      <td>624.00</td>\n",
       "      <td>USD</td>\n",
       "    </tr>\n",
       "  </tbody>\n",
       "</table>\n",
       "</div>"
      ],
      "text/plain": [
       "   amount currency\n",
       "0   43.75      EUR\n",
       "1  385.50      GBP\n",
       "2  495.50      GBP\n",
       "3  117.99      GBP\n",
       "4  624.00      USD"
      ]
     },
     "execution_count": 4,
     "metadata": {},
     "output_type": "execute_result"
    }
   ],
   "source": [
    "# Load the CSV data\n",
    "orders = pd.read_csv('data/orders-2024-01-21.csv')\n",
    "orders.head()\n"
   ]
  },
  {
   "cell_type": "code",
   "execution_count": 5,
   "id": "f006df9a-aaf5-4260-a554-abef62617873",
   "metadata": {},
   "outputs": [
    {
     "data": {
      "text/plain": [
       "{'EUR': 0.918526683200147,\n",
       " 'USD': 1.0,\n",
       " 'JPY': 148.0389455313677,\n",
       " 'BGN': 1.7964544870028474,\n",
       " 'CZK': 22.791402590245244,\n",
       " 'DKK': 6.849912739965095,\n",
       " 'GBP': 0.788325525856526,\n",
       " 'HUF': 350.44548544135205,\n",
       " 'PLN': 4.0064296867824005,\n",
       " 'RON': 4.572058418297051,\n",
       " 'SEK': 10.452833654817674,\n",
       " 'CHF': 0.8688343896390189,\n",
       " 'ISK': 136.7686231285019,\n",
       " 'NOK': 10.480389455313677,\n",
       " 'TRY': 30.192523192798753,\n",
       " 'AUD': 1.5155690272802425,\n",
       " 'BRL': 4.908974005694866,\n",
       " 'CAD': 1.3461927068981354,\n",
       " 'CNY': 7.191237255442271,\n",
       " 'HKD': 7.819233948746211,\n",
       " 'IDR': 15607.449251400754,\n",
       " 'ILS': 3.7403325066593185,\n",
       " 'INR': 83.07936070542848,\n",
       " 'KRW': 1333.6915587397814,\n",
       " 'MXN': 17.129971525672822,\n",
       " 'MYR': 4.717461192247635,\n",
       " 'NZD': 1.6347937907596215,\n",
       " 'PHP': 55.98971250114816,\n",
       " 'SGD': 1.3409571048038946,\n",
       " 'THB': 35.45972260494167,\n",
       " 'ZAR': 19.00358225406448}"
      ]
     },
     "execution_count": 5,
     "metadata": {},
     "output_type": "execute_result"
    }
   ],
   "source": [
    "# Fetch exchange rates from the VATComply API\n",
    "request_url = 'https://api.vatcomply.com/rates'\n",
    "params = {\n",
    "    'date': '2024-01-21',\n",
    "    'base': 'USD'\n",
    "}\n",
    "response = requests.get(request_url, params=params)\n",
    "rates = response.json()['rates']\n",
    "rates\n"
   ]
  },
  {
   "cell_type": "code",
   "execution_count": 6,
   "id": "bfa42f75-40dd-4624-93c7-0d0823be3488",
   "metadata": {},
   "outputs": [
    {
     "data": {
      "text/html": [
       "<div>\n",
       "<style scoped>\n",
       "    .dataframe tbody tr th:only-of-type {\n",
       "        vertical-align: middle;\n",
       "    }\n",
       "\n",
       "    .dataframe tbody tr th {\n",
       "        vertical-align: top;\n",
       "    }\n",
       "\n",
       "    .dataframe thead th {\n",
       "        text-align: right;\n",
       "    }\n",
       "</style>\n",
       "<table border=\"1\" class=\"dataframe\">\n",
       "  <thead>\n",
       "    <tr style=\"text-align: right;\">\n",
       "      <th></th>\n",
       "      <th>amount</th>\n",
       "      <th>currency</th>\n",
       "      <th>exchange_rate</th>\n",
       "    </tr>\n",
       "  </thead>\n",
       "  <tbody>\n",
       "    <tr>\n",
       "      <th>0</th>\n",
       "      <td>43.75</td>\n",
       "      <td>EUR</td>\n",
       "      <td>0.918527</td>\n",
       "    </tr>\n",
       "    <tr>\n",
       "      <th>1</th>\n",
       "      <td>385.50</td>\n",
       "      <td>GBP</td>\n",
       "      <td>0.788326</td>\n",
       "    </tr>\n",
       "    <tr>\n",
       "      <th>2</th>\n",
       "      <td>495.50</td>\n",
       "      <td>GBP</td>\n",
       "      <td>0.788326</td>\n",
       "    </tr>\n",
       "    <tr>\n",
       "      <th>3</th>\n",
       "      <td>117.99</td>\n",
       "      <td>GBP</td>\n",
       "      <td>0.788326</td>\n",
       "    </tr>\n",
       "    <tr>\n",
       "      <th>4</th>\n",
       "      <td>624.00</td>\n",
       "      <td>USD</td>\n",
       "      <td>1.000000</td>\n",
       "    </tr>\n",
       "  </tbody>\n",
       "</table>\n",
       "</div>"
      ],
      "text/plain": [
       "   amount currency  exchange_rate\n",
       "0   43.75      EUR       0.918527\n",
       "1  385.50      GBP       0.788326\n",
       "2  495.50      GBP       0.788326\n",
       "3  117.99      GBP       0.788326\n",
       "4  624.00      USD       1.000000"
      ]
     },
     "execution_count": 6,
     "metadata": {},
     "output_type": "execute_result"
    }
   ],
   "source": [
    "# Map exchange rates to the 'currency' column\n",
    "orders['exchange_rate'] = orders['currency'].map(rates)\n",
    "orders.head()\n"
   ]
  },
  {
   "cell_type": "code",
   "execution_count": 7,
   "id": "e1a85cda-e332-4170-9db1-c80f16271e50",
   "metadata": {},
   "outputs": [
    {
     "data": {
      "text/html": [
       "<div>\n",
       "<style scoped>\n",
       "    .dataframe tbody tr th:only-of-type {\n",
       "        vertical-align: middle;\n",
       "    }\n",
       "\n",
       "    .dataframe tbody tr th {\n",
       "        vertical-align: top;\n",
       "    }\n",
       "\n",
       "    .dataframe thead th {\n",
       "        text-align: right;\n",
       "    }\n",
       "</style>\n",
       "<table border=\"1\" class=\"dataframe\">\n",
       "  <thead>\n",
       "    <tr style=\"text-align: right;\">\n",
       "      <th></th>\n",
       "      <th>amount</th>\n",
       "      <th>currency</th>\n",
       "      <th>exchange_rate</th>\n",
       "      <th>amount_usd</th>\n",
       "    </tr>\n",
       "  </thead>\n",
       "  <tbody>\n",
       "    <tr>\n",
       "      <th>0</th>\n",
       "      <td>43.75</td>\n",
       "      <td>EUR</td>\n",
       "      <td>0.918527</td>\n",
       "      <td>40.185542</td>\n",
       "    </tr>\n",
       "    <tr>\n",
       "      <th>1</th>\n",
       "      <td>385.50</td>\n",
       "      <td>GBP</td>\n",
       "      <td>0.788326</td>\n",
       "      <td>303.899490</td>\n",
       "    </tr>\n",
       "    <tr>\n",
       "      <th>2</th>\n",
       "      <td>495.50</td>\n",
       "      <td>GBP</td>\n",
       "      <td>0.788326</td>\n",
       "      <td>390.615298</td>\n",
       "    </tr>\n",
       "    <tr>\n",
       "      <th>3</th>\n",
       "      <td>117.99</td>\n",
       "      <td>GBP</td>\n",
       "      <td>0.788326</td>\n",
       "      <td>93.014529</td>\n",
       "    </tr>\n",
       "    <tr>\n",
       "      <th>4</th>\n",
       "      <td>624.00</td>\n",
       "      <td>USD</td>\n",
       "      <td>1.000000</td>\n",
       "      <td>624.000000</td>\n",
       "    </tr>\n",
       "  </tbody>\n",
       "</table>\n",
       "</div>"
      ],
      "text/plain": [
       "   amount currency  exchange_rate  amount_usd\n",
       "0   43.75      EUR       0.918527   40.185542\n",
       "1  385.50      GBP       0.788326  303.899490\n",
       "2  495.50      GBP       0.788326  390.615298\n",
       "3  117.99      GBP       0.788326   93.014529\n",
       "4  624.00      USD       1.000000  624.000000"
      ]
     },
     "execution_count": 7,
     "metadata": {},
     "output_type": "execute_result"
    }
   ],
   "source": [
    "# Calculate sales in USD\n",
    "orders['amount_usd'] = orders['amount'] * orders['exchange_rate']\n",
    "orders.head()\n"
   ]
  },
  {
   "cell_type": "code",
   "execution_count": 8,
   "id": "4b9f4e1b-bebd-4d85-b3ce-692be7e5367b",
   "metadata": {},
   "outputs": [
    {
     "name": "stdout",
     "output_type": "stream",
     "text": [
      "Total Sales in USD: $326,864.40\n"
     ]
    }
   ],
   "source": [
    "# Calculate total sales in USD\n",
    "total_usd_sales = orders['amount_usd'].sum()\n",
    "print(f\"Total Sales in USD: ${total_usd_sales:,.2f}\")\n"
   ]
  },
  {
   "cell_type": "code",
   "execution_count": null,
   "id": "e1a41f85-fc04-44aa-a71e-34889e027d3f",
   "metadata": {},
   "outputs": [],
   "source": []
  }
 ],
 "metadata": {
  "kernelspec": {
   "display_name": "Python 3 (ipykernel)",
   "language": "python",
   "name": "python3"
  },
  "language_info": {
   "codemirror_mode": {
    "name": "ipython",
    "version": 3
   },
   "file_extension": ".py",
   "mimetype": "text/x-python",
   "name": "python",
   "nbconvert_exporter": "python",
   "pygments_lexer": "ipython3",
   "version": "3.10.12"
  }
 },
 "nbformat": 4,
 "nbformat_minor": 5
}
